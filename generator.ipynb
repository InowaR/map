{
  "nbformat": 4,
  "nbformat_minor": 0,
  "metadata": {
    "colab": {
      "provenance": [],
      "authorship_tag": "ABX9TyMlKe4XGGY9LDqmQzsOoPmB",
      "include_colab_link": true
    },
    "kernelspec": {
      "name": "python3",
      "display_name": "Python 3"
    },
    "language_info": {
      "name": "python"
    }
  },
  "cells": [
    {
      "cell_type": "markdown",
      "metadata": {
        "id": "view-in-github",
        "colab_type": "text"
      },
      "source": [
        "<a href=\"https://colab.research.google.com/github/InowaR/map/blob/main/generator.ipynb\" target=\"_parent\"><img src=\"https://colab.research.google.com/assets/colab-badge.svg\" alt=\"Open In Colab\"/></a>"
      ]
    },
    {
      "cell_type": "code",
      "execution_count": 181,
      "metadata": {
        "colab": {
          "base_uri": "https://localhost:8080/"
        },
        "id": "5oNK1Ytu0BKA",
        "outputId": "5a13f194-90b2-4da2-e37f-078cefcd27d4"
      },
      "outputs": [
        {
          "output_type": "stream",
          "name": "stdout",
          "text": [
            "[[0. 0. 1. 1. 0. 0.]\n",
            " [0. 0. 0. 1. 0. 0.]\n",
            " [1. 0. 1. 0. 0. 0.]\n",
            " [1. 0. 1. 1. 1. 1.]\n",
            " [1. 0. 0. 0. 0. 0.]\n",
            " [1. 0. 1. 1. 1. 0.]]\n",
            "----------------------\n",
            "[[2. 2. 1. 1. 0. 0.]\n",
            " [0. 2. 0. 1. 0. 0.]\n",
            " [1. 2. 1. 0. 0. 0.]\n",
            " [1. 2. 1. 1. 1. 1.]\n",
            " [1. 2. 2. 2. 2. 2.]\n",
            " [1. 0. 1. 1. 1. 2.]]\n"
          ]
        }
      ],
      "source": [
        "import numpy as np\n",
        "from google.colab import output\n",
        "\n",
        "while True:\n",
        "  try:\n",
        "    b = np.zeros(36)\n",
        "    i = 0\n",
        "    while i < 15:   # number of ones\n",
        "      b[i] += 1\n",
        "      i += 1\n",
        "    np.random.shuffle(b)\n",
        "    maze = b.reshape(6,6)\n",
        "    output.clear()\n",
        "    print(maze)\n",
        "    print(\"----------------------\")\n",
        "    i = 0\n",
        "    while i < len(b):\n",
        "      if b[i] == 0:\n",
        "        b[i] += 2\n",
        "      if b[i] == 1:\n",
        "        if b[i+5] == 0:\n",
        "          b[i+5] += 2\n",
        "        if b[i+5] == 1:\n",
        "          break\n",
        "        i += 5\n",
        "      i += 1\n",
        "    indexes = np.where(b == 2)\n",
        "    c = indexes[0]\n",
        "    c = c[len(c)-1]\n",
        "    j = c\n",
        "    b[j] = 0\n",
        "    if b[j+5] == 0:\n",
        "      b[j+5] += 2\n",
        "      j += 6\n",
        "    while j < len(b):\n",
        "        if b[j] == 0:\n",
        "          b[j] += 2\n",
        "        if b[j] == 1:\n",
        "          if b[j+5] == 0:\n",
        "            b[j+5] += 2 \n",
        "          if b[j+5] == 1:\n",
        "            break\n",
        "          j += 5\n",
        "        j += 1\n",
        "    if b[0] == 2 and b[35] == 2:\n",
        "      b = b.reshape(6,6)\n",
        "      print(b)\n",
        "      break  \n",
        "\n",
        "  except IndexError:\n",
        "    output.clear()\n"
      ]
    }
  ]
}