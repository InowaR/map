{
  "nbformat": 4,
  "nbformat_minor": 0,
  "metadata": {
    "colab": {
      "provenance": [],
      "authorship_tag": "ABX9TyNvy8AR49WvyAk58BgrHtbn",
      "include_colab_link": true
    },
    "kernelspec": {
      "name": "python3",
      "display_name": "Python 3"
    },
    "language_info": {
      "name": "python"
    }
  },
  "cells": [
    {
      "cell_type": "markdown",
      "metadata": {
        "id": "view-in-github",
        "colab_type": "text"
      },
      "source": [
        "<a href=\"https://colab.research.google.com/github/InowaR/map/blob/main/labyrinth.ipynb\" target=\"_parent\"><img src=\"https://colab.research.google.com/assets/colab-badge.svg\" alt=\"Open In Colab\"/></a>"
      ]
    },
    {
      "cell_type": "code",
      "execution_count": 93,
      "metadata": {
        "colab": {
          "base_uri": "https://localhost:8080/"
        },
        "id": "Nodf-NL9702n",
        "outputId": "8d747dc8-f29f-4acc-fac6-3ff03be24956"
      },
      "outputs": [
        {
          "output_type": "stream",
          "name": "stdout",
          "text": [
            "[[0 1 0 0 0 0]\n",
            " [0 1 1 1 1 0]\n",
            " [0 0 0 0 0 0]\n",
            " [0 1 0 1 1 1]\n",
            " [1 1 0 0 0 0]\n",
            " [0 0 0 1 1 0]]\n",
            "-----------------------\n",
            "[[1 0 0 0 0 0]\n",
            " [1 0 0 0 0 0]\n",
            " [1 1 1 0 0 0]\n",
            " [0 0 1 0 0 0]\n",
            " [0 0 1 1 1 1]\n",
            " [0 0 0 0 0 1]]\n",
            "-----------------------\n",
            "[[0.99684511 0.00393549 0.00391938 0.00432729 0.00401342 0.00479767\n",
            "  0.99679148 0.00316039 0.00506693 0.00506885 0.00428957 0.0033521\n",
            "  0.99650876 0.96509921 0.96468415 0.00323944 0.00615259 0.00429257\n",
            "  0.03485351 0.00387679 0.96497358 0.00473686 0.00490974 0.00441017\n",
            "  0.0350024  0.00384296 0.9966465  0.99837325 0.99864387 0.99524541\n",
            "  0.03486303 0.03483581 0.03489022 0.00437044 0.00496034 0.99598109]]\n"
          ]
        }
      ],
      "source": [
        "import numpy as np\n",
        "\n",
        "def train(X, Y):\n",
        "  w1 = np.random.random((36,10))\n",
        "  w2 = np.random.random((10,36))\n",
        "  for i in range(1000):\n",
        "    S1 = 1 / (1 + np.exp(-(np.dot(X, w1))))\n",
        "    S2 = 1 / (1 + np.exp(-(np.dot(S1, w2))))\n",
        "    S2_delta = (Y - S2) * (S2 * (1 - S2))\n",
        "    S1_delta = S2_delta.dot(w2.T) * (S1 * (1 - S1))\n",
        "    w1 += X.T.dot(S1_delta)\n",
        "    w2 += S1.T.dot(S2_delta)\n",
        "  return w1, w2\n",
        "\n",
        "def predict(test, w1, w2):\n",
        "  S1 = 1 / (1 + np.exp(-(np.dot(test, w1))))\n",
        "  S2 = 1 / (1 + np.exp(-(np.dot(S1, w2))))\n",
        "  return S2\n",
        "\n",
        "def main():\n",
        "  a = train(X, Y)\n",
        "  w1, w2 = a\n",
        "  b = predict(test, w1, w2)\n",
        "  print(b)\n",
        "\n",
        "if __name__ == \"__main__\":\n",
        "  X = np.array([[0,1,0,0,0,0,0,1,1,1,1,0,0,0,0,0,0,0,0,1,0,1,1,1,1,1,0,0,0,0,0,0,0,1,1,0], [0,0,0,0,0,0,0,1,1,0,1,0,0,1,0,0,0,0,0,1,0,1,1,1,0,1,0,0,0,0,0,0,0,1,1,0]])\n",
        "  Y = np.array([[1,0,0,0,0,0,1,0,0,0,0,0,1,1,1,0,0,0,0,0,1,0,0,0,0,0,1,1,1,1,0,0,0,0,0,1], [1,0,0,0,0,0,1,0,0,0,0,0,1,0,0,0,0,0,1,0,0,0,0,0,1,0,1,1,1,1,1,1,1,0,0,1]])\n",
        "  test = np.array([[0,1,0,0,0,0,0,1,1,1,1,0,0,0,0,0,0,0,0,1,0,1,1,1,1,1,0,0,0,0,0,0,0,1,1,0]])\n",
        "  print(X[0].reshape(6,6))\n",
        "  print(\"-----------------------\")\n",
        "  result = np.array([[1,0,0,0,0,0,1,0,0,0,0,0,1,1,1,0,0,0,0,0,1,0,0,0,0,0,1,1,1,1,0,0,0,0,0,1]])\n",
        "  res = result.reshape(6,6)\n",
        "  print(res)\n",
        "  print(\"-----------------------\")\n",
        "  main()"
      ]
    }
  ]
}