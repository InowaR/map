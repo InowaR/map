{
  "nbformat": 4,
  "nbformat_minor": 0,
  "metadata": {
    "colab": {
      "provenance": [],
      "authorship_tag": "ABX9TyPQK4glJHQLXW65OJhNbMYk",
      "include_colab_link": true
    },
    "kernelspec": {
      "name": "python3",
      "display_name": "Python 3"
    },
    "language_info": {
      "name": "python"
    }
  },
  "cells": [
    {
      "cell_type": "markdown",
      "metadata": {
        "id": "view-in-github",
        "colab_type": "text"
      },
      "source": [
        "<a href=\"https://colab.research.google.com/github/InowaR/map/blob/main/labyrinth.ipynb\" target=\"_parent\"><img src=\"https://colab.research.google.com/assets/colab-badge.svg\" alt=\"Open In Colab\"/></a>"
      ]
    },
    {
      "cell_type": "code",
      "execution_count": 80,
      "metadata": {
        "colab": {
          "base_uri": "https://localhost:8080/"
        },
        "id": "Nodf-NL9702n",
        "outputId": "bbfc2f62-6667-4446-9fb1-b5973982305d"
      },
      "outputs": [
        {
          "output_type": "stream",
          "name": "stdout",
          "text": [
            "[[0.99407175 0.00799916 0.00799736 0.00694212 0.00498386 0.00559686\n",
            "  0.99542523 0.00517215 0.00611701 0.00583474 0.00769452 0.00506026\n",
            "  0.99663673 0.03412438 0.03303796 0.00502218 0.006302   0.00556498\n",
            "  0.96741747 0.00583877 0.03213652 0.00669553 0.00483677 0.00792599\n",
            "  0.96894321 0.00661101 0.99406759 0.99605809 0.99433407 0.99444398\n",
            "  0.96605763 0.96846472 0.96873119 0.00631065 0.00535894 0.99442016]]\n",
            "[[1 0 0 0 0 0]\n",
            " [1 0 0 0 0 0]\n",
            " [1 0 0 0 0 0]\n",
            " [1 0 0 0 0 0]\n",
            " [1 0 1 1 1 1]\n",
            " [1 1 1 0 0 1]]\n"
          ]
        }
      ],
      "source": [
        "import numpy as np\n",
        "\n",
        "def train(X, Y):\n",
        "  w1 = np.random.random((36,10))\n",
        "  w2 = np.random.random((10,36))\n",
        "  for i in range(1000):\n",
        "    S1 = 1 / (1 + np.exp(-(np.dot(X, w1))))\n",
        "    S2 = 1 / (1 + np.exp(-(np.dot(S1, w2))))\n",
        "    S2_delta = (Y - S2) * (S2 * (1 - S2))\n",
        "    S1_delta = S2_delta.dot(w2.T) * (S1 * (1 - S1))\n",
        "    w1 += X.T.dot(S1_delta)\n",
        "    w2 += S1.T.dot(S2_delta)\n",
        "  return w1, w2\n",
        "\n",
        "def predict(test, w1, w2):\n",
        "  S1 = 1 / (1 + np.exp(-(np.dot(test, w1))))\n",
        "  S2 = 1 / (1 + np.exp(-(np.dot(S1, w2))))\n",
        "  return S2\n",
        "\n",
        "def main():\n",
        "  a = train(X, Y)\n",
        "  w1, w2 = a\n",
        "  b = predict(test, w1, w2)\n",
        "  print(b)\n",
        "\n",
        "if __name__ == \"__main__\":\n",
        "  X = np.array([[0,1,0,0,0,0,0,1,1,1,1,0,0,0,0,0,0,0,0,1,0,1,1,1,1,1,0,0,0,0,0,0,0,1,1,0], [0,0,0,0,0,0,0,1,1,0,1,0,0,1,0,0,0,0,0,1,0,1,1,1,0,1,0,0,0,0,0,0,0,1,1,0]])\n",
        "  Y = np.array([[1,0,0,0,0,0,1,0,0,0,0,0,1,1,1,0,0,0,0,0,1,0,0,0,0,0,1,1,1,1,0,0,0,0,0,1], [1,0,0,0,0,0,1,0,0,0,0,0,1,0,0,0,0,0,1,0,0,0,0,0,1,0,1,1,1,1,1,1,1,0,0,1]])\n",
        "  test = np.array([[0,0,0,0,0,0,0,1,1,0,1,0,0,1,0,0,0,0,0,1,0,1,1,1,0,1,0,0,0,0,0,0,0,1,1,0]])\n",
        "  main()\n",
        "  result = np.array([[1,0,0,0,0,0,1,0,0,0,0,0,1,0,0,0,0,0,1,0,0,0,0,0,1,0,1,1,1,1,1,1,1,0,0,1]])\n",
        "  res = result.reshape(6,6)\n",
        "  print(res)"
      ]
    }
  ]
}