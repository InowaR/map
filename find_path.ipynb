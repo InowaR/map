{
  "nbformat": 4,
  "nbformat_minor": 0,
  "metadata": {
    "colab": {
      "provenance": [],
      "authorship_tag": "ABX9TyM1mnR52gqtH0wVjC1c1FFd",
      "include_colab_link": true
    },
    "kernelspec": {
      "name": "python3",
      "display_name": "Python 3"
    },
    "language_info": {
      "name": "python"
    }
  },
  "cells": [
    {
      "cell_type": "markdown",
      "metadata": {
        "id": "view-in-github",
        "colab_type": "text"
      },
      "source": [
        "<a href=\"https://colab.research.google.com/github/InowaR/map/blob/main/find_path.ipynb\" target=\"_parent\"><img src=\"https://colab.research.google.com/assets/colab-badge.svg\" alt=\"Open In Colab\"/></a>"
      ]
    },
    {
      "cell_type": "code",
      "execution_count": 6,
      "metadata": {
        "id": "sBdbDtTwZO6d",
        "colab": {
          "base_uri": "https://localhost:8080/"
        },
        "outputId": "fb16a89f-f12a-4ef9-9911-544318c530d8"
      },
      "outputs": [
        {
          "output_type": "stream",
          "name": "stdout",
          "text": [
            "[[0 0 0 0 0 0]\n",
            " [0 0 1 1 0 0]\n",
            " [0 0 1 1 0 0]\n",
            " [0 0 1 1 0 0]\n",
            " [0 0 0 0 0 0]\n",
            " [0 0 0 0 0 0]]\n",
            "[8, 9, 14, 15, 20, 21] row indexes\n",
            "[[0. 0. 2. 0. 0. 0.]\n",
            " [0. 2. 1. 1. 0. 0.]\n",
            " [0. 0. 1. 1. 0. 2.]\n",
            " [0. 0. 1. 1. 2. 2.]\n",
            " [2. 2. 0. 0. 0. 2.]\n",
            " [0. 0. 0. 0. 0. 2.]]\n"
          ]
        }
      ],
      "source": [
        "import numpy as np\n",
        "a = np.array([[0, 0, 0, 0, 0, 0], [0, 0, 1, 1, 0, 0], [0, 0, 1, 1, 0, 0], [0, 0, 1, 1, 0, 0], [0, 0, 0, 0, 0, 0], [0, 0, 0, 0, 0, 0]])\n",
        "reshape = a.reshape(6,6)\n",
        "print(reshape)\n",
        "vector = np.ravel(a)\n",
        "row = []\n",
        "count = 0\n",
        "for i in vector:\n",
        "  if i == 1:\n",
        "    row.append(count)\n",
        "  count +=1\n",
        "print(row, \"row indexes\")\n",
        "b = np.zeros(36)\n",
        "i = 0\n",
        "while i < 11:   # path numbers\n",
        "  b[i] += 2\n",
        "  i += 1\n",
        "np.random.shuffle(b)\n",
        "for i in row:\n",
        "  b[i] = 1\n",
        "b = b.reshape(6,6)\n",
        "print(b)"
      ]
    }
  ]
}