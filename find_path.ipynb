{
  "nbformat": 4,
  "nbformat_minor": 0,
  "metadata": {
    "colab": {
      "provenance": [],
      "authorship_tag": "ABX9TyNRSACQsvIG+haQ2uAWo8fC",
      "include_colab_link": true
    },
    "kernelspec": {
      "name": "python3",
      "display_name": "Python 3"
    },
    "language_info": {
      "name": "python"
    }
  },
  "cells": [
    {
      "cell_type": "markdown",
      "metadata": {
        "id": "view-in-github",
        "colab_type": "text"
      },
      "source": [
        "<a href=\"https://colab.research.google.com/github/InowaR/map/blob/main/find_path.ipynb\" target=\"_parent\"><img src=\"https://colab.research.google.com/assets/colab-badge.svg\" alt=\"Open In Colab\"/></a>"
      ]
    },
    {
      "cell_type": "code",
      "execution_count": 95,
      "metadata": {
        "id": "sBdbDtTwZO6d",
        "colab": {
          "base_uri": "https://localhost:8080/"
        },
        "outputId": "4411bee1-b0f2-4dac-fa28-57f3a07a631e"
      },
      "outputs": [
        {
          "output_type": "stream",
          "name": "stdout",
          "text": [
            "[[0 0 0 0 0 0]\n",
            " [0 0 1 1 0 0]\n",
            " [0 0 1 1 0 0]\n",
            " [0 0 1 1 0 0]\n",
            " [0 0 0 0 0 0]\n",
            " [0 0 0 0 0 0]]\n",
            "[8, 9, 14, 15, 20, 21] row indexes\n",
            "[13, 14, 15, 19, 20, 21] column indexes\n",
            "[[0. 0. 0. 0. 1. 0.]\n",
            " [0. 0. 0. 0. 0. 1.]\n",
            " [0. 0. 0. 0. 0. 0.]\n",
            " [1. 0. 0. 1. 0. 1.]\n",
            " [1. 0. 0. 0. 0. 1.]\n",
            " [1. 0. 1. 0. 1. 0.]]\n"
          ]
        }
      ],
      "source": [
        "import numpy as np\n",
        "a = np.array([[0, 0, 0, 0, 0, 0], [0, 0, 1, 1, 0, 0], [0, 0, 1, 1, 0, 0], [0, 0, 1, 1, 0, 0], [0, 0, 0, 0, 0, 0], [0, 0, 0, 0, 0, 0]])\n",
        "reshape = a.reshape(6,6)\n",
        "print(reshape)\n",
        "\n",
        "vector = np.ravel(a)\n",
        "\n",
        "row = []\n",
        "count = 0\n",
        "for i in vector:\n",
        "  if i == 1:\n",
        "    row.append(count)\n",
        "  count +=1\n",
        "print(row, \"row indexes\")\n",
        "\n",
        "arr = []\n",
        "i = 0\n",
        "while i < 6:\n",
        "  arr.append(a[:,i])\n",
        "  i += 1\n",
        "\n",
        "col = np.ravel(arr)\n",
        "\n",
        "\n",
        "column = []\n",
        "count = 0\n",
        "for j in col:\n",
        "  if j == 1:\n",
        "    column.append(count)\n",
        "  count += 1\n",
        "print(column, \"column indexes\")\n",
        "\n",
        "b = np.zeros(36)\n",
        "i = 0\n",
        "while i < 10:   # number of ones\n",
        "  b[i] += 1\n",
        "  i += 1\n",
        "np.random.shuffle(b)\n",
        "b = b.reshape(6,6)\n",
        "print(b)"
      ]
    }
  ]
}