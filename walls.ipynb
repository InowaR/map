{
  "nbformat": 4,
  "nbformat_minor": 0,
  "metadata": {
    "colab": {
      "provenance": [],
      "authorship_tag": "ABX9TyMF0zhb2f6ZxoLjgv9Nvk4Q",
      "include_colab_link": true
    },
    "kernelspec": {
      "name": "python3",
      "display_name": "Python 3"
    },
    "language_info": {
      "name": "python"
    }
  },
  "cells": [
    {
      "cell_type": "markdown",
      "metadata": {
        "id": "view-in-github",
        "colab_type": "text"
      },
      "source": [
        "<a href=\"https://colab.research.google.com/github/InowaR/map/blob/main/walls.ipynb\" target=\"_parent\"><img src=\"https://colab.research.google.com/assets/colab-badge.svg\" alt=\"Open In Colab\"/></a>"
      ]
    },
    {
      "cell_type": "code",
      "execution_count": 4,
      "metadata": {
        "colab": {
          "base_uri": "https://localhost:8080/"
        },
        "id": "oREDcmIUrBOv",
        "outputId": "db98b290-4cb1-4fa1-ead8-3efe54be630c"
      },
      "outputs": [
        {
          "output_type": "stream",
          "name": "stdout",
          "text": [
            "[[1 1 1 1 1 1 1 1 1 1]\n",
            " [1 0 1 0 1 0 0 0 0 1]\n",
            " [1 0 1 0 1 0 0 0 0 1]\n",
            " [1 0 1 0 1 1 1 1 0 1]\n",
            " [1 0 1 0 0 0 0 1 0 1]\n",
            " [1 0 1 0 0 0 0 1 0 1]\n",
            " [1 0 0 0 0 0 0 1 0 1]\n",
            " [1 0 1 0 0 0 0 0 0 1]\n",
            " [1 0 1 0 0 0 0 0 0 1]\n",
            " [1 1 1 1 1 1 1 1 1 1]]\n",
            "-------------------------------------------\n",
            "[[0. 0. 0. 0. 0. 0. 0. 0. 0. 0.]\n",
            " [0. 1. 0. 0. 0. 0. 0. 0. 0. 0.]\n",
            " [0. 1. 0. 0. 0. 1. 1. 1. 1. 0.]\n",
            " [0. 1. 0. 0. 0. 0. 0. 0. 1. 0.]\n",
            " [0. 1. 0. 0. 0. 0. 0. 0. 1. 0.]\n",
            " [0. 1. 0. 0. 0. 0. 0. 0. 1. 0.]\n",
            " [0. 1. 1. 1. 1. 1. 1. 0. 1. 0.]\n",
            " [0. 0. 0. 0. 0. 0. 1. 1. 1. 0.]\n",
            " [0. 0. 0. 0. 0. 0. 0. 0. 0. 0.]\n",
            " [0. 0. 0. 0. 0. 0. 0. 0. 0. 0.]]\n",
            "-------------------------------------------\n"
          ]
        }
      ],
      "source": [
        "import numpy as np\n",
        "\n",
        "a = [\n",
        "    [1, 1, 1, 1, 1, 1, 1, 1, 1, 1],\n",
        "    [1, 0, 1, 0, 1, 0, 0, 0, 0, 1],\n",
        "    [1, 0, 1, 0, 1, 0, 0, 0, 0, 1],\n",
        "    [1, 0, 1, 0, 1, 1, 1, 1, 0, 1],\n",
        "    [1, 0, 1, 0, 0, 0, 0, 1, 0, 1],\n",
        "    [1, 0, 1, 0, 0, 0, 0, 1, 0, 1],\n",
        "    [1, 0, 0, 0, 0, 0, 0, 1, 0, 1],\n",
        "    [1, 0, 1, 0, 0, 0, 0, 0, 0, 1],\n",
        "    [1, 0, 1, 0, 0, 0, 0, 0, 0, 1],\n",
        "    [1, 1, 1, 1, 1, 1, 1, 1, 1, 1],\n",
        "]\n",
        "\n",
        "a = np.array(a)\n",
        "a = a.reshape(10,10)\n",
        "print(a)\n",
        "print(\"-------------------------------------------\")\n",
        "\n",
        "start = 1, 1\n",
        "end = 2, 5\n",
        "\n",
        "m = []\n",
        "for i in range(len(a)):\n",
        "    m.append([])\n",
        "    for j in range(len(a[i])):\n",
        "        m[-1].append(0)\n",
        "i, j = start\n",
        "m[i][j] = 1\n",
        "\n",
        "def make_step(k):\n",
        "  for i in range(len(m)):\n",
        "    for j in range(len(m[i])):\n",
        "      if m[i][j] == k:\n",
        "        if i>0 and m[i-1][j] == 0 and a[i-1][j] == 0:\n",
        "          m[i-1][j] = k + 1\n",
        "        if j>0 and m[i][j-1] == 0 and a[i][j-1] == 0:\n",
        "          m[i][j-1] = k + 1\n",
        "        if i<len(m)-1 and m[i+1][j] == 0 and a[i+1][j] == 0:\n",
        "          m[i+1][j] = k + 1\n",
        "        if j<len(m[i])-1 and m[i][j+1] == 0 and a[i][j+1] == 0:\n",
        "           m[i][j+1] = k + 1\n",
        "k = 0\n",
        "while m[end[0]][end[1]] == 0:\n",
        "    k += 1\n",
        "    make_step(k)\n",
        "\n",
        "i, j = end\n",
        "k = m[i][j]\n",
        "path = [(i,j)]\n",
        "while k > 1:\n",
        "  if i > 0 and m[i - 1][j] == k-1:\n",
        "    i, j = i-1, j\n",
        "    path.append((i, j))\n",
        "    k-=1\n",
        "  elif j > 0 and m[i][j - 1] == k-1:\n",
        "    i, j = i, j-1\n",
        "    path.append((i, j))\n",
        "    k-=1\n",
        "  elif i < len(m) - 1 and m[i + 1][j] == k-1:\n",
        "    i, j = i+1, j\n",
        "    path.append((i, j))\n",
        "    k-=1\n",
        "  elif j < len(m[i]) - 1 and m[i][j + 1] == k-1:\n",
        "    i, j = i, j+1\n",
        "    path.append((i, j))\n",
        "    k -= 1\n",
        "\n",
        "b = np.zeros((10,10))\n",
        "for i,j in path:\n",
        "  b[i][j] = 1\n",
        "\n",
        "print(b)\n",
        "print(\"-------------------------------------------\")"
      ]
    }
  ]
}