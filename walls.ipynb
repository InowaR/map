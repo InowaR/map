{
  "nbformat": 4,
  "nbformat_minor": 0,
  "metadata": {
    "colab": {
      "provenance": [],
      "authorship_tag": "ABX9TyMeLsgi9eA8mX2A5+NL7j4x",
      "include_colab_link": true
    },
    "kernelspec": {
      "name": "python3",
      "display_name": "Python 3"
    },
    "language_info": {
      "name": "python"
    }
  },
  "cells": [
    {
      "cell_type": "markdown",
      "metadata": {
        "id": "view-in-github",
        "colab_type": "text"
      },
      "source": [
        "<a href=\"https://colab.research.google.com/github/InowaR/map/blob/main/walls.ipynb\" target=\"_parent\"><img src=\"https://colab.research.google.com/assets/colab-badge.svg\" alt=\"Open In Colab\"/></a>"
      ]
    },
    {
      "cell_type": "code",
      "execution_count": 310,
      "metadata": {
        "colab": {
          "base_uri": "https://localhost:8080/"
        },
        "id": "oREDcmIUrBOv",
        "outputId": "540cbf55-d200-4956-cb87-089c18bf4eaf"
      },
      "outputs": [
        {
          "output_type": "stream",
          "name": "stdout",
          "text": [
            "[[1 1 1 1 1 1 1 1 1 1]\n",
            " [1 0 1 0 1 0 0 0 0 1]\n",
            " [1 0 1 0 1 0 0 0 0 1]\n",
            " [1 0 1 0 1 1 1 1 0 1]\n",
            " [1 0 1 0 0 0 0 1 0 1]\n",
            " [1 0 1 0 0 0 0 1 0 1]\n",
            " [1 0 0 0 0 0 0 1 0 1]\n",
            " [1 0 1 0 0 0 0 0 0 1]\n",
            " [1 0 1 0 0 0 0 0 0 1]\n",
            " [1 1 1 1 1 1 1 1 1 1]]\n",
            "-------------------------------------------\n",
            "[[ 0  0  0  0  0  0  0  0  0  0]\n",
            " [ 0  1  0 13  0  0 22 21 20  0]\n",
            " [ 0  2  0 12  0 22 21 20 19  0]\n",
            " [ 0  3  0 11  0  0  0  0 18  0]\n",
            " [ 0  4  0 10 11 12 13  0 17  0]\n",
            " [ 0  5  0  9 10 11 12  0 16  0]\n",
            " [ 0  6  7  8  9 10 11  0 15  0]\n",
            " [ 0  7  0  9 10 11 12 13 14  0]\n",
            " [ 0  8  0 10 11 12 13 14 15  0]\n",
            " [ 0  0  0  0  0  0  0  0  0  0]]\n",
            "-------------------------------------------\n",
            "[[0. 0. 0. 0. 0. 0. 0. 0. 0. 0.]\n",
            " [0. 1. 0. 0. 0. 0. 0. 0. 0. 0.]\n",
            " [0. 1. 0. 0. 0. 1. 1. 1. 1. 0.]\n",
            " [0. 1. 0. 0. 0. 0. 0. 0. 1. 0.]\n",
            " [0. 1. 0. 0. 0. 0. 0. 0. 1. 0.]\n",
            " [0. 1. 0. 0. 0. 0. 0. 0. 1. 0.]\n",
            " [0. 1. 1. 1. 1. 1. 1. 0. 1. 0.]\n",
            " [0. 0. 0. 0. 0. 0. 1. 1. 1. 0.]\n",
            " [0. 0. 0. 0. 0. 0. 0. 0. 0. 0.]\n",
            " [0. 0. 0. 0. 0. 0. 0. 0. 0. 0.]]\n",
            "-------------------------------------------\n"
          ]
        }
      ],
      "source": [
        "import numpy as np\n",
        "\n",
        "a = [\n",
        "    [1, 1, 1, 1, 1, 1, 1, 1, 1, 1],\n",
        "    [1, 0, 1, 0, 1, 0, 0, 0, 0, 1],\n",
        "    [1, 0, 1, 0, 1, 0, 0, 0, 0, 1],\n",
        "    [1, 0, 1, 0, 1, 1, 1, 1, 0, 1],\n",
        "    [1, 0, 1, 0, 0, 0, 0, 1, 0, 1],\n",
        "    [1, 0, 1, 0, 0, 0, 0, 1, 0, 1],\n",
        "    [1, 0, 0, 0, 0, 0, 0, 1, 0, 1],\n",
        "    [1, 0, 1, 0, 0, 0, 0, 0, 0, 1],\n",
        "    [1, 0, 1, 0, 0, 0, 0, 0, 0, 1],\n",
        "    [1, 1, 1, 1, 1, 1, 1, 1, 1, 1],\n",
        "]\n",
        "\n",
        "a = np.array(a)\n",
        "a = a.reshape(10,10)\n",
        "print(a)\n",
        "print(\"-------------------------------------------\")\n",
        "\n",
        "start = 1, 1\n",
        "end = 2, 5\n",
        "\n",
        "m = []\n",
        "for i in range(len(a)):\n",
        "    m.append([])\n",
        "    for j in range(len(a[i])):\n",
        "        m[-1].append(0)\n",
        "i, j = start\n",
        "m[i][j] = 1\n",
        "\n",
        "def make_step(k):\n",
        "  for i in range(len(m)):\n",
        "    for j in range(len(m[i])):\n",
        "      if m[i][j] == k:\n",
        "        if i>0 and m[i-1][j] == 0 and a[i-1][j] == 0:\n",
        "          m[i-1][j] = k + 1\n",
        "        if j>0 and m[i][j-1] == 0 and a[i][j-1] == 0:\n",
        "          m[i][j-1] = k + 1\n",
        "        if i<len(m)-1 and m[i+1][j] == 0 and a[i+1][j] == 0:\n",
        "          m[i+1][j] = k + 1\n",
        "        if j<len(m[i])-1 and m[i][j+1] == 0 and a[i][j+1] == 0:\n",
        "           m[i][j+1] = k + 1\n",
        "k = 0\n",
        "while m[end[0]][end[1]] == 0:\n",
        "    k += 1\n",
        "    make_step(k)\n",
        "\n",
        "new = np.array(m)\n",
        "new = new.reshape(10,10)\n",
        "print(new)\n",
        "print(\"-------------------------------------------\")\n",
        "\n",
        "i, j = end\n",
        "k = m[i][j]\n",
        "path = [(i,j)]\n",
        "while k > 1:\n",
        "  if i > 0 and m[i - 1][j] == k-1:\n",
        "    i, j = i-1, j\n",
        "    path.append((i, j))\n",
        "    k-=1\n",
        "  elif j > 0 and m[i][j - 1] == k-1:\n",
        "    i, j = i, j-1\n",
        "    path.append((i, j))\n",
        "    k-=1\n",
        "  elif i < len(m) - 1 and m[i + 1][j] == k-1:\n",
        "    i, j = i+1, j\n",
        "    path.append((i, j))\n",
        "    k-=1\n",
        "  elif j < len(m[i]) - 1 and m[i][j + 1] == k-1:\n",
        "    i, j = i, j+1\n",
        "    path.append((i, j))\n",
        "    k -= 1\n",
        "\n",
        "b = np.zeros((10,10))\n",
        "for i,j in path:\n",
        "  b[i][j] = 1\n",
        "\n",
        "print(b)\n",
        "print(\"-------------------------------------------\")"
      ]
    }
  ]
}